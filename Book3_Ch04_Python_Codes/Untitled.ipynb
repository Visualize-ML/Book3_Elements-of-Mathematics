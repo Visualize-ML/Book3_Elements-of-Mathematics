{
 "cells": [
  {
   "cell_type": "code",
   "execution_count": 1,
   "id": "d911de16-9962-4006-9b1e-e9068bbc3f62",
   "metadata": {
    "tags": []
   },
   "outputs": [],
   "source": [
    "# set A: odd\n",
    "A = set([1,3,5])\n",
    "\n",
    "# set B: even\n",
    "B = set([2,4,6])\n",
    "\n",
    "# set C: less than 4\n",
    "C = set([1,2,3])"
   ]
  },
  {
   "cell_type": "code",
   "execution_count": 2,
   "id": "3155c0e6-9fcd-4846-b5e0-a172e028efb1",
   "metadata": {
    "tags": []
   },
   "outputs": [
    {
     "data": {
      "text/plain": [
       "{1, 2, 3, 4, 5, 6}"
      ]
     },
     "execution_count": 2,
     "metadata": {},
     "output_type": "execute_result"
    }
   ],
   "source": [
    "# A union B\n",
    "A_union_B = A.union(B) #A|B, A or B\n",
    "A_union_B"
   ]
  },
  {
   "cell_type": "code",
   "execution_count": 3,
   "id": "39d9228a-19db-42c0-8d48-c264d8694254",
   "metadata": {
    "tags": []
   },
   "outputs": [
    {
     "data": {
      "text/plain": [
       "set()"
      ]
     },
     "execution_count": 3,
     "metadata": {},
     "output_type": "execute_result"
    }
   ],
   "source": [
    "# A intersects (meets) B\n",
    "A_meet_B = A.intersection(B) #A&B, A and B\n",
    "A_meet_B"
   ]
  },
  {
   "cell_type": "code",
   "execution_count": 4,
   "id": "f6b54f8e-21cc-4cf3-83fe-9e8fc5a4cd19",
   "metadata": {
    "tags": []
   },
   "outputs": [
    {
     "data": {
      "text/plain": [
       "{1, 3, 5}"
      ]
     },
     "execution_count": 4,
     "metadata": {},
     "output_type": "execute_result"
    }
   ],
   "source": [
    "# A minus B\n",
    "A_minus_B = A.difference(B) # A - B, set difference\n",
    "A_minus_B"
   ]
  },
  {
   "cell_type": "code",
   "execution_count": 5,
   "id": "45273a4d-fa58-4249-b574-17f64e229832",
   "metadata": {
    "tags": []
   },
   "outputs": [
    {
     "data": {
      "text/plain": [
       "{1, 2, 3, 5}"
      ]
     },
     "execution_count": 5,
     "metadata": {},
     "output_type": "execute_result"
    }
   ],
   "source": [
    "# A union C\n",
    "A_union_C = A.union(C) #A|C, A or C\n",
    "A_union_C"
   ]
  },
  {
   "cell_type": "code",
   "execution_count": 6,
   "id": "d3cdf9a4-347d-4e4b-bf88-cf92b716c180",
   "metadata": {
    "tags": []
   },
   "outputs": [
    {
     "data": {
      "text/plain": [
       "{1, 3}"
      ]
     },
     "execution_count": 6,
     "metadata": {},
     "output_type": "execute_result"
    }
   ],
   "source": [
    "# A intersects (meets) C\n",
    "A_meet_C = A.intersection(C) #A&C, A and C\n",
    "A_meet_C"
   ]
  },
  {
   "cell_type": "code",
   "execution_count": 7,
   "id": "6cc11e5c-4f94-4142-bc73-401927e47fda",
   "metadata": {
    "tags": []
   },
   "outputs": [
    {
     "data": {
      "text/plain": [
       "{5}"
      ]
     },
     "execution_count": 7,
     "metadata": {},
     "output_type": "execute_result"
    }
   ],
   "source": [
    "# A minus C\n",
    "A_minus_C = A.difference(C) # A - C, set difference\n",
    "A_minus_C"
   ]
  },
  {
   "cell_type": "code",
   "execution_count": 1,
   "id": "3edcef65-d8da-4983-a7ab-daf32d097860",
   "metadata": {
    "tags": []
   },
   "outputs": [],
   "source": [
    "# C minus A\n",
    "C_minus_A = C.difference(A) # C - A, set difference\n",
    "C_minus_A"
   ]
  },
  {
   "cell_type": "code",
   "execution_count": 8,
   "id": "8a83ecd8-4370-42a4-ba72-4f287963d33c",
   "metadata": {
    "tags": []
   },
   "outputs": [],
   "source": [
    "from sympy.abc import x,y"
   ]
  },
  {
   "cell_type": "code",
   "execution_count": 9,
   "id": "53fc2d4a-f737-4a3a-a233-5a1ccd27ab78",
   "metadata": {
    "tags": []
   },
   "outputs": [
    {
     "name": "stdout",
     "output_type": "stream",
     "text": [
      "0\n"
     ]
    }
   ],
   "source": [
    "expr_x = x**3 + 2*x**2 - x - 2\n",
    "\n",
    "print(expr_x.subs(x,1))"
   ]
  },
  {
   "cell_type": "code",
   "execution_count": 10,
   "id": "8e37e3fb-7f34-491e-a6fc-957113c172b1",
   "metadata": {
    "tags": []
   },
   "outputs": [
    {
     "name": "stdout",
     "output_type": "stream",
     "text": [
      "cos(y)**3 + 2*cos(y)**2 - cos(y) - 2\n"
     ]
    }
   ],
   "source": [
    "# Bk_Ch4_02_B\n",
    "from sympy import cos\n",
    "expr_cos_y = expr_x.subs(x,cos(y))\n",
    "\n",
    "print(expr_cos_y)"
   ]
  },
  {
   "cell_type": "code",
   "execution_count": 11,
   "id": "ed03e7e0-2b4e-4bcc-b770-410ebc5efeef",
   "metadata": {
    "tags": []
   },
   "outputs": [
    {
     "name": "stdout",
     "output_type": "stream",
     "text": [
      "x + y\n"
     ]
    }
   ],
   "source": [
    "# Bk_Ch4_02_C\n",
    "from sympy import symbols\n",
    "\n",
    "x,y = symbols('x,y')\n",
    "expr_1 = x + y\n",
    "print(expr_1)"
   ]
  },
  {
   "cell_type": "code",
   "execution_count": 12,
   "id": "4341b1e5-0164-4cc2-82a4-8fa6112b0fba",
   "metadata": {
    "tags": []
   },
   "outputs": [
    {
     "name": "stdout",
     "output_type": "stream",
     "text": [
      "x1 + x2\n"
     ]
    }
   ],
   "source": [
    "x1,x2 = symbols('x1,x2')\n",
    "expr_2 = x1 + x2\n",
    "print(expr_2)"
   ]
  },
  {
   "cell_type": "code",
   "execution_count": 13,
   "id": "bb8fad4d-a719-4fe7-9128-08d645b41a99",
   "metadata": {
    "tags": []
   },
   "outputs": [],
   "source": [
    "from sympy import *\n",
    "x,y,z = symbols('x y z')"
   ]
  },
  {
   "cell_type": "code",
   "execution_count": 16,
   "id": "6e1f47f9-e587-42d3-a3ef-43f8ed14e679",
   "metadata": {
    "tags": []
   },
   "outputs": [
    {
     "data": {
      "text/plain": [
       "(-cos(2*x), sin(x)**2 - cos(x)**2)"
      ]
     },
     "execution_count": 16,
     "metadata": {},
     "output_type": "execute_result"
    }
   ],
   "source": [
    "# simplify mathematical expressions\n",
    "expr_1 = sin(x)**2 - cos(x)**2\n",
    "simplify(expr_1), expr_1  # 可以的, 简化代数式的过程居然可以用程序自动完成."
   ]
  },
  {
   "cell_type": "code",
   "execution_count": 17,
   "id": "005c101d-80cb-4cb5-8b3b-61fe5240cdce",
   "metadata": {
    "tags": []
   },
   "outputs": [
    {
     "data": {
      "text/plain": [
       "(x**3 + 3*x**2 + 3*x + 1, (x + 1)**3)"
      ]
     },
     "execution_count": 17,
     "metadata": {},
     "output_type": "execute_result"
    }
   ],
   "source": [
    "# expand polynomial expressions\n",
    "expr_2 = (x + 1)**3\n",
    "expand(expr_2), expr_2  # 牛逼, 未曾设想过的能力."
   ]
  },
  {
   "cell_type": "code",
   "execution_count": 19,
   "id": "4d0a5d58-972d-4293-92cd-fdbbc8946cae",
   "metadata": {
    "tags": []
   },
   "outputs": [
    {
     "data": {
      "text/plain": [
       "((x - 1)*(x + 1)*(x + 2), x**3 + 2*x**2 - x - 2)"
      ]
     },
     "execution_count": 19,
     "metadata": {},
     "output_type": "execute_result"
    }
   ],
   "source": [
    "# take a polynomial and factors it into irreducible factors\n",
    "expr_3 = x**3 + 2*x**2 - x - 2\n",
    "factor(expr_3), expr_3  # 但是使用这些功能的前提, 似乎是你得看出来可以这么做?"
   ]
  },
  {
   "cell_type": "code",
   "execution_count": 20,
   "id": "5fb3cbcd-6f65-4ce7-b8c4-17c18887b19e",
   "metadata": {
    "tags": []
   },
   "outputs": [
    {
     "name": "stdout",
     "output_type": "stream",
     "text": [
      "x**3 + x**2 - 3*x - 2\n"
     ]
    }
   ],
   "source": [
    "# collect common powers of a term in an expression\n",
    "expr_collected = collect(expr_3 - x**2 - 2*x, x)\n",
    "print(expr_collected)"
   ]
  },
  {
   "cell_type": "code",
   "execution_count": 21,
   "id": "8ae21d65-66e2-4d5c-8175-6ee2e6eea76b",
   "metadata": {
    "tags": []
   },
   "outputs": [],
   "source": [
    "from sympy.abc import x, y, z\n",
    "expr = x**3 + 2*x**2 - x - 2"
   ]
  },
  {
   "cell_type": "code",
   "execution_count": 22,
   "id": "577de603-d904-4394-aa80-75fc3d937717",
   "metadata": {
    "tags": []
   },
   "outputs": [],
   "source": [
    "from sympy.utilities.lambdify import lambdify\n",
    "f_x = lambdify(x, expr)"
   ]
  },
  {
   "cell_type": "code",
   "execution_count": 25,
   "id": "ec6d4bbb-fe4b-4992-9adb-8c83a7c4c099",
   "metadata": {
    "tags": []
   },
   "outputs": [
    {
     "name": "stdout",
     "output_type": "stream",
     "text": [
      "1188\n"
     ]
    }
   ],
   "source": [
    "print(f_x(10))  # 可以, 相当的直观, 只能说作者太有才了, 光是想想为了这么直觉的使用公式, 要实现的诸多细节就让人头疼."
   ]
  },
  {
   "cell_type": "code",
   "execution_count": 26,
   "id": "f22538da-4f14-4c87-8da0-b20b687d025b",
   "metadata": {
    "tags": []
   },
   "outputs": [
    {
     "name": "stdout",
     "output_type": "stream",
     "text": [
      "[1, 4, 6, 4, 1]\n"
     ]
    },
    {
     "data": {
      "image/png": "[encoded data removed]",
      "text/plain": [
       "<Figure size 640x480 with 1 Axes>"
      ]
     },
     "metadata": {},
     "output_type": "display_data"
    },
    {
     "name": "stdout",
     "output_type": "stream",
     "text": [
      "[1, 8, 28, 56, 70, 56, 28, 8, 1]\n"
     ]
    },
    {
     "data": {
      "image/png": "[encoded data removed]",
      "text/plain": [
       "<Figure size 640x480 with 1 Axes>"
      ]
     },
     "metadata": {},
     "output_type": "display_data"
    },
    {
     "name": "stdout",
     "output_type": "stream",
     "text": [
      "[1, 12, 66, 220, 495, 792, 924, 792, 495, 220, 66, 12, 1]\n"
     ]
    },
    {
     "data": {
      "image/png": "[encoded data removed]",
      "text/plain": [
       "<Figure size 640x480 with 1 Axes>"
      ]
     },
     "metadata": {},
     "output_type": "display_data"
    },
    {
     "name": "stdout",
     "output_type": "stream",
     "text": [
      "[1, 5, 10, 10, 5, 1]\n"
     ]
    },
    {
     "data": {
      "image/png": "[encoded data removed]",
      "text/plain": [
       "<Figure size 640x480 with 1 Axes>"
      ]
     },
     "metadata": {},
     "output_type": "display_data"
    },
    {
     "name": "stdout",
     "output_type": "stream",
     "text": [
      "[1, 9, 36, 84, 126, 126, 84, 36, 9, 1]\n"
     ]
    },
    {
     "data": {
      "image/png": "[encoded data removed]",
      "text/plain": [
       "<Figure size 640x480 with 1 Axes>"
      ]
     },
     "metadata": {},
     "output_type": "display_data"
    },
    {
     "name": "stdout",
     "output_type": "stream",
     "text": [
      "[1, 13, 78, 286, 715, 1287, 1716, 1716, 1287, 715, 286, 78, 13, 1]\n"
     ]
    },
    {
     "data": {
      "image/png": "[encoded data removed]",
      "text/plain": [
       "<Figure size 640x480 with 1 Axes>"
      ]
     },
     "metadata": {},
     "output_type": "display_data"
    },
    {
     "name": "stdout",
     "output_type": "stream",
     "text": [
      "[1, 36, 630, 7140, 58905, 376992, 1947792, 8347680, 30260340, 94143280, 254186856, 600805296, 1251677700, 2310789600, 3796297200, 5567902560, 7307872110, 8597496600, 9075135300, 8597496600, 7307872110, 5567902560, 3796297200, 2310789600, 1251677700, 600805296, 254186856, 94143280, 30260340, 8347680, 1947792, 376992, 58905, 7140, 630, 36, 1]\n"
     ]
    },
    {
     "data": {
      "image/png": "[encoded data removed]",
      "text/plain": [
       "<Figure size 640x480 with 1 Axes>"
      ]
     },
     "metadata": {},
     "output_type": "display_data"
    }
   ],
   "source": [
    "from sympy.abc import x, a\n",
    "from sympy import Poly\n",
    "import matplotlib.pyplot as plt\n",
    "import numpy as np\n",
    "\n",
    "for n in [4, 8, 12, 5, 9, 13, 36]:\n",
    "    \n",
    "    expr = (x + 1)**n\n",
    "    \n",
    "    expr_expand = expr.expand()\n",
    "    expr_expand = Poly(expr_expand)\n",
    "    \n",
    "    poly_coeffs = expr_expand.coeffs()\n",
    "    \n",
    "    print(poly_coeffs)\n",
    "    \n",
    "    degrees = np.linspace(n,0,n + 1)\n",
    "    \n",
    "    fig, ax = plt.subplots()\n",
    "    \n",
    "    plt.stem(degrees, np.array(poly_coeffs, dtype=float))\n",
    "    plt.xlim(0,n)\n",
    "    plt.xticks(np.arange(0,n+1))\n",
    "    y_max = max(poly_coeffs)\n",
    "    y_max = float(y_max)\n",
    "    plt.ylim(0,y_max)\n",
    "    \n",
    "    ax.spines['right'].set_visible(False)\n",
    "    ax.spines['top'].set_visible(False)\n",
    "    ax.invert_xaxis()\n",
    "    plt.xlabel('Degree')\n",
    "    plt.ylabel('Coefficient')\n",
    "    plt.show()"
   ]
  },
  {
   "cell_type": "code",
   "execution_count": 27,
   "id": "c644b85d-0709-4b2d-9839-83a256c1164d",
   "metadata": {
    "tags": []
   },
   "outputs": [
    {
     "name": "stdout",
     "output_type": "stream",
     "text": [
      "('A', 'B')\n",
      "('A', 'C')\n",
      "('B', 'C')\n"
     ]
    }
   ],
   "source": [
    "import itertools\n",
    " \n",
    "letters = \"ABC\"\n",
    "\n",
    "# find all combinations containing 2 letters\n",
    "\n",
    "cmb = itertools.combinations(letters, 2)\n",
    "\n",
    "for val in cmb:\n",
    "    print(val)\n"
   ]
  },
  {
   "cell_type": "code",
   "execution_count": 29,
   "id": "fd54b2f0-8bd5-4d5d-b9ea-a92c1f346131",
   "metadata": {
    "tags": []
   },
   "outputs": [
    {
     "name": "stdout",
     "output_type": "stream",
     "text": [
      "('A', 'B', 'C')\n",
      "('A', 'C', 'B')\n",
      "('B', 'A', 'C')\n",
      "('B', 'C', 'A')\n",
      "('C', 'A', 'B')\n",
      "('C', 'B', 'A')\n"
     ]
    }
   ],
   "source": [
    "import itertools\n",
    " \n",
    "letters = \"ABC\"\n",
    "\n",
    "# Arranging all 3 elements\n",
    "\n",
    "per = itertools.permutations(letters)\n",
    " \n",
    "for val in per:\n",
    "    print(val)\n"
   ]
  },
  {
   "cell_type": "code",
   "execution_count": 32,
   "id": "4187f828-aa6d-49a7-8e89-13e4c53712da",
   "metadata": {
    "tags": []
   },
   "outputs": [
    {
     "data": {
      "text/plain": [
       "[-1, 0, 1]"
      ]
     },
     "execution_count": 32,
     "metadata": {},
     "output_type": "execute_result"
    }
   ],
   "source": [
    "from sympy.solvers import solve\n",
    "from sympy import Symbol\n",
    "x = Symbol('x')\n",
    "roots = solve(-x**3 + x, x)\n",
    "roots"
   ]
  },
  {
   "cell_type": "code",
   "execution_count": 33,
   "id": "9c8aa7ed-494b-437c-b8f0-e797bfc1051e",
   "metadata": {
    "tags": []
   },
   "outputs": [
    {
     "data": {
      "text/plain": [
       "array([ 1., -1.,  0.])"
      ]
     },
     "execution_count": 33,
     "metadata": {},
     "output_type": "execute_result"
    }
   ],
   "source": [
    "# use numpy to solve\n",
    "import numpy as np\n",
    "\n",
    "coeff = [-1, 0, 1, 0]  # 这种不管对象的次数, 只通过系数求解的办法要求单变量吧?\n",
    "roots_V2 = np.roots(coeff)\n",
    "roots_V2  # 为啥和上面的排序不同?"
   ]
  },
  {
   "cell_type": "code",
   "execution_count": null,
   "id": "31b68935-310a-4e84-89e9-028f31427946",
   "metadata": {},
   "outputs": [],
   "source": []
  }
 ],
 "metadata": {
  "kernelspec": {
   "display_name": "Python 3 (ipykernel)",
   "language": "python",
   "name": "python3"
  },
  "language_info": {
   "codemirror_mode": {
    "name": "ipython",
    "version": 3
   },
   "file_extension": ".py",
   "mimetype": "text/x-python",
   "name": "python",
   "nbconvert_exporter": "python",
   "pygments_lexer": "ipython3",
   "version": "3.11.3"
  }
 },
 "nbformat": 4,
 "nbformat_minor": 5
}
