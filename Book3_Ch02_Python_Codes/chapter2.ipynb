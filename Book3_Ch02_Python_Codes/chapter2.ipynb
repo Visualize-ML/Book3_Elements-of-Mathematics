{
 "cells": [
  {
   "cell_type": "code",
   "execution_count": 42,
   "id": "b8693a76-5de7-4641-af2d-dbf9469d8f14",
   "metadata": {
    "tags": []
   },
   "outputs": [],
   "source": [
    "import numpy as np\n",
    "from matplotlib import pyplot as plt\n",
    "import seaborn as sns"
   ]
  },
  {
   "cell_type": "code",
   "execution_count": 4,
   "id": "f070a93a-e255-4131-a6c0-f40478ebd921",
   "metadata": {
    "scrolled": true,
    "tags": []
   },
   "outputs": [],
   "source": [
    "num1 = 2\n",
    "num2 = 3"
   ]
  },
  {
   "cell_type": "code",
   "execution_count": 5,
   "id": "4b57c718-390b-4be8-b546-0abbdae51e0c",
   "metadata": {
    "scrolled": true,
    "tags": []
   },
   "outputs": [
    {
     "data": {
      "text/plain": [
       "6"
      ]
     },
     "execution_count": 5,
     "metadata": {},
     "output_type": "execute_result"
    }
   ],
   "source": [
    "# add two numbers\n",
    "prod = num1*num2\n",
    "prod"
   ]
  },
  {
   "cell_type": "code",
   "execution_count": 6,
   "id": "c3651295-870d-4fc9-9746-d390f1804031",
   "metadata": {
    "tags": []
   },
   "outputs": [
    {
     "name": "stdin",
     "output_type": "stream",
     "text": [
      "Enter an integer:  10\n"
     ]
    }
   ],
   "source": [
    "num = int(input(\"Enter an integer: \"))\n",
    "factorial = 1"
   ]
  },
  {
   "cell_type": "code",
   "execution_count": 7,
   "id": "94e06c34-bdd4-46cd-a534-2f998400e47d",
   "metadata": {
    "tags": []
   },
   "outputs": [
    {
     "name": "stdout",
     "output_type": "stream",
     "text": [
      "The factorial of 10  is  3628800\n"
     ]
    }
   ],
   "source": [
    "# check if the number is negative, positive or zero\n",
    "\n",
    "if num < 0:\n",
    "    print(\"Factorial does not exist for negative numbers\")\n",
    "elif num == 0:\n",
    "    print(\"The factorial of 0 is \", factorial)\n",
    "else:\n",
    "    for i in range(1,num + 1):\n",
    "       factorial *=i\n",
    "    print(\"The factorial of\",num,\" is \",factorial)\n",
    "    "
   ]
  },
  {
   "cell_type": "code",
   "execution_count": 9,
   "id": "13ec505b-3767-4676-bbb3-4e72ab5c323a",
   "metadata": {
    "tags": []
   },
   "outputs": [
    {
     "name": "stdout",
     "output_type": "stream",
     "text": [
      "[ 1.  2.  3.  4.  5.  6.  7.  8.  9. 10.]\n"
     ]
    }
   ],
   "source": [
    "a_i = np.linspace(1,10,10)\n",
    "print(a_i)"
   ]
  },
  {
   "cell_type": "markdown",
   "id": "3aa06ce8-753b-4b1e-b0ae-8a7846d40f16",
   "metadata": {},
   "source": [
    "`np.set_printoptions(suppress=True)` 是一个NumPy函数，它用于设置打印选项。这些选项决定了浮点数、数组和其他NumPy对象的显示方式。当参数 `suppress=True` 时，它会禁止指数表示法，使浮点数始终以小数形式显示³。\n",
    "\n",
    "源: 与必应的对话， 5/3/2023\n",
    "(1) NumPy配列ndarrayの表示形式（桁数や指数表記、0埋めなど）を指定 | note.nkmk.me. https://note.nkmk.me/python-numpy-set-printoptions-float-formatter/.\n",
    "(2) numpy.set_printoptions — NumPy v1.24 Manual. https://numpy.org/doc/stable/reference/generated/numpy.set_printoptions.html.\n",
    "(3) NumPy Input and Output: set_printoptions() function. https://www.w3resource.com/numpy/input-and-output/set_printoptions.php.\n",
    "(4) 【编程】Numpy打印去掉科学计数法 - 简书. https://www.jianshu.com/p/ebe78c367fc0."
   ]
  },
  {
   "cell_type": "code",
   "execution_count": 11,
   "id": "611559bb-9ac2-4ed6-befb-adf6927eee5d",
   "metadata": {
    "tags": []
   },
   "outputs": [
    {
     "name": "stdout",
     "output_type": "stream",
     "text": [
      "[      1.       2.       6.      24.     120.     720.    5040.   40320.\n",
      "  362880. 3628800.]\n"
     ]
    }
   ],
   "source": [
    "a_i_cumprod = np.cumprod(a_i)\n",
    "np.set_printoptions(suppress=True)\n",
    "print(a_i_cumprod)"
   ]
  },
  {
   "cell_type": "code",
   "execution_count": 18,
   "id": "2ccfa67f-484b-4573-b833-2bd4e63fa0e0",
   "metadata": {
    "tags": []
   },
   "outputs": [
    {
     "data": {
      "text/plain": [
       "array([      1,       2,       6,      24,     120,     720,    5040,\n",
       "         40320,  362880, 3628800])"
      ]
     },
     "execution_count": 18,
     "metadata": {},
     "output_type": "execute_result"
    }
   ],
   "source": [
    "b = np.arange(1, 11)\n",
    "np.cumprod(b)"
   ]
  },
  {
   "cell_type": "code",
   "execution_count": 19,
   "id": "90a0e70f-60ec-4ca5-aab2-9f6601d3b22c",
   "metadata": {
    "tags": []
   },
   "outputs": [],
   "source": [
    "num1 = 6\n",
    "num2 = 3"
   ]
  },
  {
   "cell_type": "code",
   "execution_count": 20,
   "id": "ffd3d454-d9c7-477d-b8b2-d7fa4530a8ec",
   "metadata": {
    "tags": []
   },
   "outputs": [
    {
     "data": {
      "text/plain": [
       "2.0"
      ]
     },
     "execution_count": 20,
     "metadata": {},
     "output_type": "execute_result"
    }
   ],
   "source": [
    "# add two numbers\n",
    "division = num1/num2\n",
    "division"
   ]
  },
  {
   "cell_type": "code",
   "execution_count": 21,
   "id": "2209399c-cca6-4987-bf09-1c8e1f22313d",
   "metadata": {
    "tags": []
   },
   "outputs": [],
   "source": [
    "num1 = 7\n",
    "num2 = 2"
   ]
  },
  {
   "cell_type": "code",
   "execution_count": 22,
   "id": "a8c4d2f8-3dbc-4e1f-842d-02cf0feaaccd",
   "metadata": {
    "tags": []
   },
   "outputs": [
    {
     "data": {
      "text/plain": [
       "1"
      ]
     },
     "execution_count": 22,
     "metadata": {},
     "output_type": "execute_result"
    }
   ],
   "source": [
    "# add two numbers\n",
    "remainder = num1%num2\n",
    "remainder"
   ]
  },
  {
   "cell_type": "code",
   "execution_count": 24,
   "id": "c2655e36-6eac-4c4d-ad36-69d003981aef",
   "metadata": {
    "tags": []
   },
   "outputs": [
    {
     "data": {
      "text/plain": [
       "(3, 1)"
      ]
     },
     "execution_count": 24,
     "metadata": {},
     "output_type": "execute_result"
    }
   ],
   "source": [
    "divmod(num1, num2)  # build-in function."
   ]
  },
  {
   "cell_type": "code",
   "execution_count": 25,
   "id": "edc77271-66c2-4c85-8165-8231f0d15fb8",
   "metadata": {
    "tags": []
   },
   "outputs": [
    {
     "data": {
      "text/plain": [
       "array([[2],\n",
       "       [4],\n",
       "       [6]])"
      ]
     },
     "execution_count": 25,
     "metadata": {},
     "output_type": "execute_result"
    }
   ],
   "source": [
    "# define a column vector\n",
    "a_col = np.array([[1], [2], [3]])\n",
    "b_col = 2*a_col\n",
    "b_col"
   ]
  },
  {
   "cell_type": "code",
   "execution_count": 26,
   "id": "6401bc9d-65e2-4c89-898f-426a48ec2b44",
   "metadata": {
    "tags": []
   },
   "outputs": [
    {
     "data": {
      "text/plain": [
       "array([[2, 4, 6]])"
      ]
     },
     "execution_count": 26,
     "metadata": {},
     "output_type": "execute_result"
    }
   ],
   "source": [
    "# define a row vector\n",
    "a_row = np.array([[1, 2, 3]])\n",
    "b_row = 2*a_row\n",
    "b_row"
   ]
  },
  {
   "cell_type": "code",
   "execution_count": 27,
   "id": "54415daa-9710-481e-8465-52ae139eb7eb",
   "metadata": {
    "tags": []
   },
   "outputs": [
    {
     "data": {
      "text/plain": [
       "array([[ 2,  4,  6],\n",
       "       [ 8, 10, 12]])"
      ]
     },
     "execution_count": 27,
     "metadata": {},
     "output_type": "execute_result"
    }
   ],
   "source": [
    "# define a matrix\n",
    "A = np.array([[1, 2, 3],\n",
    "              [4, 5, 6]])\n",
    "\n",
    "B = 2*A\n",
    "B"
   ]
  },
  {
   "cell_type": "code",
   "execution_count": 28,
   "id": "87d12b05-f47f-422c-8d21-2c7806c56336",
   "metadata": {
    "tags": []
   },
   "outputs": [],
   "source": [
    "a_row = np.array([[1, 2, 3]])\n",
    "b_row = np.array([[4, 3, 2]])"
   ]
  },
  {
   "cell_type": "code",
   "execution_count": 29,
   "id": "2ed8c96b-9cf5-414d-b53e-d5212e1d59a1",
   "metadata": {
    "tags": []
   },
   "outputs": [
    {
     "data": {
      "text/plain": [
       "array([[16]])"
      ]
     },
     "execution_count": 29,
     "metadata": {},
     "output_type": "execute_result"
    }
   ],
   "source": [
    "a_dot_b = np.inner(a_row, b_row)\n",
    "a_dot_b  # note that dimension is maintaind."
   ]
  },
  {
   "cell_type": "code",
   "execution_count": 30,
   "id": "fc7a60c1-1736-4f98-9a6b-7d2fff381252",
   "metadata": {
    "tags": []
   },
   "outputs": [
    {
     "data": {
      "text/plain": [
       "(array([[1, 2, 3]]), array([[4, 3, 2]]))"
      ]
     },
     "execution_count": 30,
     "metadata": {},
     "output_type": "execute_result"
    }
   ],
   "source": [
    "a_row[:], b_row[:]  # So, what this means?"
   ]
  },
  {
   "cell_type": "code",
   "execution_count": 32,
   "id": "04f8e210-b48e-4ad1-bc39-b2d83a910ea1",
   "metadata": {
    "tags": []
   },
   "outputs": [
    {
     "data": {
      "text/plain": [
       "array([[4, 6, 6]])"
      ]
     },
     "execution_count": 32,
     "metadata": {},
     "output_type": "execute_result"
    }
   ],
   "source": [
    "a_row * b_row  # wise product."
   ]
  },
  {
   "cell_type": "code",
   "execution_count": 31,
   "id": "76fe2c13-8c8e-4f86-be6b-0aced61c3072",
   "metadata": {
    "tags": []
   },
   "outputs": [
    {
     "name": "stdout",
     "output_type": "stream",
     "text": [
      "[[16]]\n",
      "[[16]]\n",
      "16\n"
     ]
    }
   ],
   "source": [
    "print(a_dot_b)\n",
    "print(np.inner(a_row[:], b_row[:]))\n",
    "print(np.sum(a_row * b_row))"
   ]
  },
  {
   "cell_type": "code",
   "execution_count": 33,
   "id": "11869546-2656-48bb-96e2-f678a3096486",
   "metadata": {
    "tags": []
   },
   "outputs": [],
   "source": [
    "#%% column vector dot product \n",
    "a_col = np.array([[1],  [2], [3]])\n",
    "b_col = np.array([[-1], [0], [1]])"
   ]
  },
  {
   "cell_type": "code",
   "execution_count": 34,
   "id": "b596fed8-08fe-4755-8a27-a1d7aa5ca806",
   "metadata": {
    "tags": []
   },
   "outputs": [
    {
     "data": {
      "text/plain": [
       "array([[-1,  0,  1],\n",
       "       [-2,  0,  2],\n",
       "       [-3,  0,  3]])"
      ]
     },
     "execution_count": 34,
     "metadata": {},
     "output_type": "execute_result"
    }
   ],
   "source": [
    "a_dot_b = np.inner(a_col, b_col)\n",
    "a_dot_b  # like width multipliy higth equals area.\n",
    "# just like for loop that element of a time b got a vetor sequentially, then gether resulte to form a matrix."
   ]
  },
  {
   "cell_type": "code",
   "execution_count": null,
   "id": "c0dbf9cb-eec0-4af1-ab34-6c055831f25b",
   "metadata": {},
   "outputs": [],
   "source": [
    "print(a_dot_b) # tensor product\n",
    "\n",
    "print(np.sum(a_col * b_col))"
   ]
  },
  {
   "cell_type": "code",
   "execution_count": 35,
   "id": "28ec1821-8055-49da-a919-9088e18a183b",
   "metadata": {
    "tags": []
   },
   "outputs": [],
   "source": [
    "a = np.array([[1, 2, 3]])\n",
    "b = np.array([[4, 5, 6]])"
   ]
  },
  {
   "cell_type": "code",
   "execution_count": 36,
   "id": "eec96044-66cf-4fff-8577-351c8efbc6d6",
   "metadata": {
    "tags": []
   },
   "outputs": [
    {
     "data": {
      "text/plain": [
       "array([[ 4, 10, 18]])"
      ]
     },
     "execution_count": 36,
     "metadata": {},
     "output_type": "execute_result"
    }
   ],
   "source": [
    "# calculate element-wise product of row vectors\n",
    "a_times_b = a*b\n",
    "a_times_b"
   ]
  },
  {
   "cell_type": "code",
   "execution_count": 37,
   "id": "a68748a7-8906-46a7-8950-1b11703c6ded",
   "metadata": {
    "tags": []
   },
   "outputs": [],
   "source": [
    "A = np.array([[1, 2, 3],\n",
    "              [4, 5, 6]])\n",
    "\n",
    "B = np.array([[1, 2, 3],\n",
    "              [-1, 0, 1]])"
   ]
  },
  {
   "cell_type": "code",
   "execution_count": 38,
   "id": "98c092d9-9834-46c8-803d-6a4f11b74dea",
   "metadata": {
    "tags": []
   },
   "outputs": [
    {
     "data": {
      "text/plain": [
       "array([[ 1,  4,  9],\n",
       "       [-4,  0,  6]])"
      ]
     },
     "execution_count": 38,
     "metadata": {},
     "output_type": "execute_result"
    }
   ],
   "source": [
    "# calculate element-wise product of matrices\n",
    "A_times_B = A*B\n",
    "A_times_B"
   ]
  },
  {
   "cell_type": "code",
   "execution_count": 39,
   "id": "b8da36d9-8613-4859-9de3-4cbf96c41f6c",
   "metadata": {},
   "outputs": [],
   "source": [
    "A = np.array([[1, 2],\n",
    "              [3, 4]])\n",
    "\n",
    "B = np.array([[4, 2],\n",
    "              [3, 1]])"
   ]
  },
  {
   "cell_type": "code",
   "execution_count": 40,
   "id": "1a6843c1-66e9-4cce-8137-5adb4b0333ce",
   "metadata": {},
   "outputs": [
    {
     "data": {
      "text/plain": [
       "array([[10,  4],\n",
       "       [24, 10]])"
      ]
     },
     "execution_count": 40,
     "metadata": {},
     "output_type": "execute_result"
    }
   ],
   "source": [
    "# calculate matrix multiplication\n",
    "C = A@B\n",
    "C"
   ]
  },
  {
   "cell_type": "code",
   "execution_count": 43,
   "id": "fb45bdc0-53df-4857-bebb-b5fac335f2ad",
   "metadata": {
    "tags": []
   },
   "outputs": [
    {
     "data": {
      "text/plain": [
       "(array([0.5, 1.5, 2.5, 3.5, 4.5, 5.5]),\n",
       " [Text(0, 0.5, '1'),\n",
       "  Text(0, 1.5, '2'),\n",
       "  Text(0, 2.5, '3'),\n",
       "  Text(0, 3.5, '4'),\n",
       "  Text(0, 4.5, '5'),\n",
       "  Text(0, 5.5, '6')])"
      ]
     },
     "execution_count": 43,
     "metadata": {},
     "output_type": "execute_result"
    },
    {
     "data": {
      "image/png": "[encoded data removed]",
      "text/plain": [
       "<Figure size 1200x300 with 8 Axes>"
      ]
     },
     "metadata": {},
     "output_type": "display_data"
    },
    {
     "data": {
      "image/png": "[encoded data removed]",
      "text/plain": [
       "<Figure size 1200x300 with 11 Axes>"
      ]
     },
     "metadata": {},
     "output_type": "display_data"
    }
   ],
   "source": [
    "# Repeatability\n",
    "np.random.seed(7)\n",
    "\n",
    "# Generate matrix A and B\n",
    "m = 6\n",
    "p = 3\n",
    "n = 4\n",
    "\n",
    "A = np.random.uniform(-1,1,m*p).reshape(m, p)\n",
    "B = np.random.uniform(-1,1,p*n).reshape(p, n)\n",
    "\n",
    "C = A@B\n",
    "\n",
    "all_max = 1\n",
    "all_min = -1\n",
    "\n",
    "#%% matrix multiplication, first perspective\n",
    "\n",
    "fig, axs = plt.subplots(1, 5, figsize=(12, 3))\n",
    "\n",
    "plt.sca(axs[0])\n",
    "ax = sns.heatmap(A,cmap='RdBu_r',vmax = all_max,vmin = all_min,\n",
    "                 cbar_kws={\"orientation\": \"horizontal\"},\n",
    "                 yticklabels=np.arange(1,m+1), xticklabels=np.arange(1,p+1))\n",
    "ax.set_aspect(\"equal\")\n",
    "plt.title('$A$')\n",
    "plt.yticks(rotation=0) \n",
    "\n",
    "plt.sca(axs[1])\n",
    "plt.title('$@$')\n",
    "plt.axis('off')\n",
    "\n",
    "plt.sca(axs[2])\n",
    "ax = sns.heatmap(B,cmap='RdBu_r',vmax = all_max,vmin = all_min,\n",
    "                 cbar_kws={\"orientation\": \"horizontal\"},\n",
    "                 yticklabels=np.arange(1,p+1), xticklabels=np.arange(1,n+1))\n",
    "ax.set_aspect(\"equal\")\n",
    "plt.title('$B$')\n",
    "plt.yticks(rotation=0) \n",
    "\n",
    "plt.sca(axs[3])\n",
    "plt.title('$=$')\n",
    "plt.axis('off')\n",
    "\n",
    "plt.sca(axs[4])\n",
    "ax = sns.heatmap(C,cmap='RdBu_r',vmax = all_max,vmin = all_min,\n",
    "                 cbar_kws={\"orientation\": \"horizontal\"},\n",
    "                 yticklabels=np.arange(1,m+1), xticklabels=np.arange(1,n+1))\n",
    "ax.set_aspect(\"equal\")\n",
    "plt.title('$C$')\n",
    "plt.yticks(rotation=0) \n",
    "\n",
    "\n",
    "\n",
    "# Bk_Ch2_10_B\n",
    "\n",
    "#%% matrix multiplication, second perspective\n",
    "\n",
    "C1 = A[:,[0]]@B[[0],:]\n",
    "\n",
    "C2 = A[:,[1]]@B[[1],:]\n",
    "\n",
    "C3 = A[:,[2]]@B[[2],:]\n",
    "\n",
    "fig, axs = plt.subplots(1, 7, figsize=(12, 3))\n",
    "\n",
    "plt.sca(axs[0])\n",
    "ax = sns.heatmap(C1,cmap='RdBu_r',vmax = all_max,vmin = all_min,\n",
    "                 cbar_kws={\"orientation\": \"horizontal\"},\n",
    "                 yticklabels=np.arange(1,m+1), xticklabels=np.arange(1,n+1))\n",
    "ax.set_aspect(\"equal\")\n",
    "plt.title('$C_1$')\n",
    "plt.yticks(rotation=0) \n",
    "\n",
    "plt.sca(axs[1])\n",
    "plt.title('$+$')\n",
    "plt.axis('off')\n",
    "\n",
    "plt.sca(axs[2])\n",
    "ax = sns.heatmap(C2,cmap='RdBu_r',vmax = all_max,vmin = all_min,\n",
    "                 cbar_kws={\"orientation\": \"horizontal\"},\n",
    "                 yticklabels=np.arange(1,m+1), xticklabels=np.arange(1,n+1))\n",
    "ax.set_aspect(\"equal\")\n",
    "plt.title('$C_2$')\n",
    "plt.yticks(rotation=0) \n",
    "\n",
    "plt.sca(axs[3])\n",
    "plt.title('$+$')\n",
    "plt.axis('off')\n",
    "\n",
    "plt.sca(axs[4])\n",
    "ax = sns.heatmap(C3,cmap='RdBu_r',vmax = all_max,vmin = all_min,\n",
    "                 cbar_kws={\"orientation\": \"horizontal\"},\n",
    "                 yticklabels=np.arange(1,m+1), xticklabels=np.arange(1,n+1))\n",
    "ax.set_aspect(\"equal\")\n",
    "plt.title('$C_3$')\n",
    "plt.yticks(rotation=0) \n",
    "\n",
    "plt.sca(axs[5])\n",
    "plt.title('$=$')\n",
    "plt.axis('off')\n",
    "\n",
    "plt.sca(axs[6])\n",
    "ax = sns.heatmap(C,cmap='RdBu_r',vmax = all_max,vmin = all_min,\n",
    "                 cbar_kws={\"orientation\": \"horizontal\"},\n",
    "                 yticklabels=np.arange(1,m+1), xticklabels=np.arange(1,n+1))\n",
    "ax.set_aspect(\"equal\")\n",
    "plt.title('$C$')\n",
    "plt.yticks(rotation=0) "
   ]
  },
  {
   "cell_type": "code",
   "execution_count": 44,
   "id": "4e68e5d3-c1fe-41da-bf5e-2368786da5ba",
   "metadata": {
    "tags": []
   },
   "outputs": [
    {
     "name": "stderr",
     "output_type": "stream",
     "text": [
      "2023-05-05 18:57:26.308 \n",
      "  \u001b[33m\u001b[1mWarning:\u001b[0m to view this Streamlit app on a browser, run it with the following\n",
      "  command:\n",
      "\n",
      "    streamlit run C:\\Anaconda3\\envs\\math\\Lib\\site-packages\\ipykernel_launcher.py [ARGUMENTS]\n"
     ]
    },
    {
     "data": {
      "image/png": "[encoded data removed]",
      "text/plain": [
       "<Figure size 1200x300 with 8 Axes>"
      ]
     },
     "metadata": {},
     "output_type": "display_data"
    }
   ],
   "source": [
    "import numpy as np\n",
    "import streamlit as st\n",
    "import seaborn as sns\n",
    "from matplotlib import pyplot as plt\n",
    "\n",
    "#%%\n",
    "\n",
    "def bmatrix(a):\n",
    "    \"\"\"Returns a LaTeX bmatrix\n",
    "\n",
    "    :a: numpy array\n",
    "    :returns: LaTeX bmatrix as a string\n",
    "    \"\"\"\n",
    "    if len(a.shape) > 2:\n",
    "        raise ValueError('bmatrix can at most display two dimensions')\n",
    "    lines = str(a).replace('[', '').replace(']', '').splitlines()\n",
    "    rv = [r'\\begin{bmatrix}']\n",
    "    rv += ['  ' + ' & '.join(l.split()) + r'\\\\' for l in lines]\n",
    "    rv +=  [r'\\end{bmatrix}']\n",
    "    return '\\n'.join(rv)\n",
    "\n",
    "#%%\n",
    "with st.sidebar:\n",
    "    \n",
    "    st.latex(r'C_{m\\times n} = A_{m\\times p} B_{p\\times n}')\n",
    "    \n",
    "    rows_A = st.slider('Number of rows in A:',\n",
    "                    min_value = 1,\n",
    "                    max_value = 9,\n",
    "                    value = 5,\n",
    "                    step = 1)\n",
    "    \n",
    "    cols_A = st.slider('Number of columns in A:',\n",
    "                    min_value = 1,\n",
    "                    max_value = 9,\n",
    "                    value = 5,\n",
    "                    step = 1)\n",
    "    \n",
    "    rows_B = st.slider('Number of rows in B:',\n",
    "                    min_value = 1,\n",
    "                    max_value = 9,\n",
    "                    value = 5,\n",
    "                    step = 1)\n",
    "    \n",
    "    cols_B = st.slider('Number of columns in B:',\n",
    "                    min_value = 1,\n",
    "                    max_value = 9,\n",
    "                    value = 5,\n",
    "                    step = 1)\n",
    "\n",
    "#%% generate A and B using random integer generator\n",
    "\n",
    "A = np.random.randint(10, size=(rows_A, cols_A))\n",
    "B = np.random.randint(10, size=(rows_B, cols_B))\n",
    "\n",
    "st.latex(r'A_{m\\times p} = ' + bmatrix(A))\n",
    "st.latex(r'B_{p\\times n} = ' + bmatrix(B))\n",
    "\n",
    "#%%\n",
    "\n",
    "try:\n",
    "    \n",
    "    C = A@B\n",
    "    st.latex('C = AB = ' + bmatrix(C))\n",
    "    \n",
    "    \n",
    "    fig, axs = plt.subplots(1, 5, figsize=(12, 3))\n",
    "    \n",
    "    plt.sca(axs[0])\n",
    "    ax = sns.heatmap(A,cmap='RdYlBu_r',\n",
    "                     cbar_kws={\"orientation\": \"horizontal\"},\n",
    "                     yticklabels=np.arange(1,rows_A+1), \n",
    "                     xticklabels=np.arange(1,cols_A+1))\n",
    "    \n",
    "    ax.set_aspect(\"equal\")\n",
    "    plt.title('$A$')\n",
    "    plt.yticks(rotation=0) \n",
    "    \n",
    "    plt.sca(axs[1])\n",
    "    plt.title('$@$')\n",
    "    plt.axis('off')\n",
    "    \n",
    "    plt.sca(axs[2])\n",
    "    ax = sns.heatmap(B,cmap='RdYlBu_r',\n",
    "                     cbar_kws={\"orientation\": \"horizontal\"},\n",
    "                     yticklabels=np.arange(1,rows_B+1), \n",
    "                     xticklabels=np.arange(1,cols_B+1))\n",
    "    \n",
    "    ax.set_aspect(\"equal\")\n",
    "    plt.title('$B$')\n",
    "    plt.yticks(rotation=0) \n",
    "    \n",
    "    plt.sca(axs[3])\n",
    "    plt.title('$=$')\n",
    "    plt.axis('off')\n",
    "    \n",
    "    plt.sca(axs[4])\n",
    "    ax = sns.heatmap(C,cmap='RdYlBu_r',\n",
    "                     cbar_kws={\"orientation\": \"horizontal\"},\n",
    "                     yticklabels=np.arange(1,rows_A+1), \n",
    "                     xticklabels=np.arange(1,cols_B+1))\n",
    "    \n",
    "    ax.set_aspect(\"equal\")\n",
    "    plt.title('$C$')\n",
    "    plt.yticks(rotation=0) \n",
    "    \n",
    "    st.pyplot(fig)\n",
    "    \n",
    "except:\n",
    "    st.write('The number of columns of the first matrix, must equal the number of rows of the second matrix.')\n"
   ]
  },
  {
   "cell_type": "code",
   "execution_count": 45,
   "id": "f42b6b32-69cb-460c-b351-c58584029d92",
   "metadata": {
    "tags": []
   },
   "outputs": [
    {
     "name": "stdout",
     "output_type": "stream",
     "text": [
      "^C\n"
     ]
    }
   ],
   "source": [
    "! streamlit run C:\\Anaconda3\\envs\\math\\Lib\\site-packages\\ipykernel_launcher.py"
   ]
  },
  {
   "cell_type": "code",
   "execution_count": 49,
   "id": "b6101195-b1fe-4b5f-981a-a25a6fb063ab",
   "metadata": {
    "tags": []
   },
   "outputs": [
    {
     "data": {
      "image/png": "[encoded data removed]",
      "text/plain": [
       "<Figure size 1200x300 with 8 Axes>"
      ]
     },
     "metadata": {},
     "output_type": "display_data"
    },
    {
     "data": {
      "image/png": "[encoded data removed]",
      "text/plain": [
       "<Figure size 1200x300 with 8 Axes>"
      ]
     },
     "metadata": {},
     "output_type": "display_data"
    },
    {
     "data": {
      "image/png": "[encoded data removed]",
      "text/plain": [
       "<Figure size 1200x300 with 8 Axes>"
      ]
     },
     "metadata": {},
     "output_type": "display_data"
    }
   ],
   "source": [
    "from numpy.linalg import inv\n",
    "\n",
    "# Repeatability\n",
    "np.random.seed(0)\n",
    "# Generate matrix A\n",
    "n = 4\n",
    "A = np.random.uniform(-1.5,1.5,n*n).reshape(n, n)\n",
    "\n",
    "all_max = 1.5\n",
    "all_min = -1.5\n",
    "\n",
    "# matrix inverse\n",
    "A_inverse = inv(A)\n",
    "\n",
    "fig, axs = plt.subplots(1, 5, figsize=(12, 3))\n",
    "\n",
    "plt.sca(axs[0])\n",
    "ax = sns.heatmap(A,cmap='RdBu_r',vmax = all_max,vmin = all_min,\n",
    "                 cbar_kws={\"orientation\": \"horizontal\"},\n",
    "                 yticklabels=np.arange(1,n+1), xticklabels=np.arange(1,n+1),\n",
    "                 annot = True,fmt=\".2f\")\n",
    "ax.set_aspect(\"equal\")\n",
    "plt.title('$A$')\n",
    "plt.yticks(rotation=0) \n",
    "\n",
    "plt.sca(axs[1])\n",
    "plt.title('$@$')\n",
    "plt.axis('off')\n",
    "\n",
    "plt.sca(axs[2])\n",
    "ax = sns.heatmap(A_inverse,cmap='RdBu_r',vmax = all_max,vmin = all_min,\n",
    "                 cbar_kws={\"orientation\": \"horizontal\"},\n",
    "                 yticklabels=np.arange(1,n+1), xticklabels=np.arange(1,n+1),\n",
    "                 annot = True,fmt=\".2f\")\n",
    "ax.set_aspect(\"equal\")\n",
    "plt.title('$A^{-1}$')\n",
    "plt.yticks(rotation=0) \n",
    "\n",
    "plt.sca(axs[3])\n",
    "plt.title('$=$')\n",
    "plt.axis('off')\n",
    "\n",
    "plt.sca(axs[4])\n",
    "ax = sns.heatmap(A@A_inverse,cmap='RdBu_r',vmax = all_max,vmin = all_min,\n",
    "                 cbar_kws={\"orientation\": \"horizontal\"},\n",
    "                 yticklabels=np.arange(1,n+1), xticklabels=np.arange(1,n+1),\n",
    "                 annot = True,fmt=\".2f\")\n",
    "ax.set_aspect(\"equal\")\n",
    "plt.title('$I$')\n",
    "plt.yticks(rotation=0) \n",
    "plt.show()\n",
    "\n"
   ]
  },
  {
   "cell_type": "code",
   "execution_count": null,
   "id": "1ad81d59-11cc-48bc-a70e-938248bdda5b",
   "metadata": {},
   "outputs": [],
   "source": []
  }
 ],
 "metadata": {
  "kernelspec": {
   "display_name": "Python 3 (ipykernel)",
   "language": "python",
   "name": "python3"
  },
  "language_info": {
   "codemirror_mode": {
    "name": "ipython",
    "version": 3
   },
   "file_extension": ".py",
   "mimetype": "text/x-python",
   "name": "python",
   "nbconvert_exporter": "python",
   "pygments_lexer": "ipython3",
   "version": "3.11.3"
  }
 },
 "nbformat": 4,
 "nbformat_minor": 5
}
